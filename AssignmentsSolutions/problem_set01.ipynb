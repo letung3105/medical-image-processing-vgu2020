{
 "cells": [
  {
   "cell_type": "markdown",
   "metadata": {},
   "source": [
    "# Setup"
   ]
  },
  {
   "cell_type": "code",
   "execution_count": 1,
   "metadata": {},
   "outputs": [
    {
     "name": "stdout",
     "output_type": "stream",
     "text": [
      "Requirement already satisfied: scikit-learn in /home/letung3105/.pyenv/versions/3.8.6/envs/MIP/lib/python3.8/site-packages (0.23.2)\n",
      "Requirement already satisfied: numpy>=1.13.3 in /home/letung3105/.pyenv/versions/3.8.6/envs/MIP/lib/python3.8/site-packages (from scikit-learn) (1.19.4)\n",
      "Requirement already satisfied: joblib>=0.11 in /home/letung3105/.pyenv/versions/3.8.6/envs/MIP/lib/python3.8/site-packages (from scikit-learn) (1.0.0)\n",
      "Requirement already satisfied: threadpoolctl>=2.0.0 in /home/letung3105/.pyenv/versions/3.8.6/envs/MIP/lib/python3.8/site-packages (from scikit-learn) (2.1.0)\n",
      "Requirement already satisfied: scipy>=0.19.1 in /home/letung3105/.pyenv/versions/3.8.6/envs/MIP/lib/python3.8/site-packages (from scikit-learn) (1.5.4)\n",
      "\u001b[33mWARNING: You are using pip version 20.2.1; however, version 21.0 is available.\n",
      "You should consider upgrading via the '/home/letung3105/.pyenv/versions/3.8.6/envs/MIP/bin/python3.8 -m pip install --upgrade pip' command.\u001b[0m\n",
      "Note: you may need to restart the kernel to use updated packages.\n",
      "Requirement already satisfied: matplotlib in /home/letung3105/.pyenv/versions/3.8.6/envs/MIP/lib/python3.8/site-packages (3.3.3)\n",
      "Requirement already satisfied: numpy>=1.15 in /home/letung3105/.pyenv/versions/3.8.6/envs/MIP/lib/python3.8/site-packages (from matplotlib) (1.19.4)\n",
      "Requirement already satisfied: kiwisolver>=1.0.1 in /home/letung3105/.pyenv/versions/3.8.6/envs/MIP/lib/python3.8/site-packages (from matplotlib) (1.3.1)\n",
      "Requirement already satisfied: cycler>=0.10 in /home/letung3105/.pyenv/versions/3.8.6/envs/MIP/lib/python3.8/site-packages (from matplotlib) (0.10.0)\n",
      "Requirement already satisfied: pillow>=6.2.0 in /home/letung3105/.pyenv/versions/3.8.6/envs/MIP/lib/python3.8/site-packages (from matplotlib) (8.0.1)\n",
      "Requirement already satisfied: pyparsing!=2.0.4,!=2.1.2,!=2.1.6,>=2.0.3 in /home/letung3105/.pyenv/versions/3.8.6/envs/MIP/lib/python3.8/site-packages (from matplotlib) (2.4.7)\n",
      "Requirement already satisfied: python-dateutil>=2.1 in /home/letung3105/.pyenv/versions/3.8.6/envs/MIP/lib/python3.8/site-packages (from matplotlib) (2.8.1)\n",
      "Requirement already satisfied: six in /home/letung3105/.pyenv/versions/3.8.6/envs/MIP/lib/python3.8/site-packages (from cycler>=0.10->matplotlib) (1.15.0)\n",
      "\u001b[33mWARNING: You are using pip version 20.2.1; however, version 21.0 is available.\n",
      "You should consider upgrading via the '/home/letung3105/.pyenv/versions/3.8.6/envs/MIP/bin/python3.8 -m pip install --upgrade pip' command.\u001b[0m\n",
      "Note: you may need to restart the kernel to use updated packages.\n"
     ]
    }
   ],
   "source": [
    "%pip install scikit-learn\n",
    "%pip install matplotlib"
   ]
  },
  {
   "cell_type": "code",
   "execution_count": 2,
   "metadata": {},
   "outputs": [],
   "source": [
    "%matplotlib inline\n",
    "\n",
    "import math\n",
    "from enum import Enum\n",
    "\n",
    "import matplotlib.pyplot as plt\n",
    "import numpy as np"
   ]
  },
  {
   "cell_type": "markdown",
   "metadata": {},
   "source": [
    "# Task 01"
   ]
  },
  {
   "cell_type": "markdown",
   "metadata": {},
   "source": [
    "We create 2 funtions to facilitate the algorithm for constructing the images.\n",
    "+ `distance2d` calculates the distance between 2 points on a plane using the specified metric\n",
    "+ `equidistance_countour_image` creates an image, then set the pixels of that image to be \"on\" based on the distance that is calculated by `distance2d`"
   ]
  },
  {
   "cell_type": "code",
   "execution_count": 3,
   "metadata": {},
   "outputs": [],
   "source": [
    "class DistanceMetric(Enum):\n",
    "    EUCLIDEAN = 0\n",
    "    TCHEBYCHEV = 1\n",
    "    TAXICAB = 2\n",
    "    \n",
    "    \n",
    "def distance2d(distance_metric, point_x, point_y):\n",
    "    if distance_metric == DistanceMetric.EUCLIDEAN:\n",
    "        return math.hypot(\n",
    "            math.fabs(point_x[0] - point_y[0]),\n",
    "            math.fabs(point_x[1] - point_y[1]),\n",
    "        )\n",
    "    elif distance_metric == DistanceMetric.TCHEBYCHEV:\n",
    "        return max(\n",
    "            math.fabs(point_x[0] - point_y[0]),\n",
    "            math.fabs(point_x[1] - point_y[1]),\n",
    "        )\n",
    "    elif distance_metric == DistanceMetric.TAXICAB:\n",
    "        return (\n",
    "            math.fabs(point_x[0] - point_y[0]) +\n",
    "            math.fabs(point_x[1] - point_y[1])\n",
    "        )\n",
    "    else:\n",
    "        raise RuntimeError(\"Metric not supported\")\n",
    "        \n",
    "        \n",
    "def equidistance_countour_image(distance_metric, dimensions, origin, radius):\n",
    "    image = np.zeros(shape = dimensions).T\n",
    "    for y in range(image.shape[0]):\n",
    "        for x in range(image.shape[1]):\n",
    "            # Use rounding\n",
    "            d = round(distance2d(distance_metric, origin, (y, x)))\n",
    "            if d == radius:\n",
    "                image[y,x] = 1\n",
    "\n",
    "    return image"
   ]
  },
  {
   "cell_type": "markdown",
   "metadata": {},
   "source": [
    "We now generate images using the above mentioned functions with different distance metrics. The distances that we use are 1, 2, 3, and 5."
   ]
  },
  {
   "cell_type": "markdown",
   "metadata": {},
   "source": [
    "First we generated the images using the Euclidean metric. From the the generated images, we can see that the countour only divides the plane into 2 non-contigous regions when we use a distance of 1 and consider the background to be of 8-connectivity."
   ]
  },
  {
   "cell_type": "code",
   "execution_count": 4,
   "metadata": {},
   "outputs": [
    {
     "data": {
      "image/png": "[encoded data removed]",
      "text/plain": [
       "<Figure size 576x576 with 4 Axes>"
      ]
     },
     "metadata": {
      "needs_background": "light"
     },
     "output_type": "display_data"
    }
   ],
   "source": [
    "radii = [1, 2, 3, 5]\n",
    "fig, axs = plt.subplots(len(radii)//2 + len(radii) % 2, 2, figsize=(8, 8))\n",
    "\n",
    "for (idx, radius) in enumerate(radii):\n",
    "    image = equidistance_countour_image(\n",
    "        distance_metric=DistanceMetric.EUCLIDEAN,\n",
    "        dimensions=(32, 32),\n",
    "        origin=(16, 16),\n",
    "        radius=radius\n",
    "    )\n",
    "\n",
    "    axs[idx//2,idx % 2].set_title(\"Euclidean distance r=%d\" % (radius))\n",
    "    axs[idx//2,idx % 2].imshow(image, cmap=plt.cm.binary)\n",
    "    \n",
    "plt.show()"
   ]
  },
  {
   "cell_type": "markdown",
   "metadata": {},
   "source": [
    "Similarly, we generated the images using the Tchebychev metric. With this metric, the countour will always divide the plane into 2 non-contiguous regions when we consider the background to be of 8-connectivity."
   ]
  },
  {
   "cell_type": "code",
   "execution_count": 5,
   "metadata": {},
   "outputs": [
    {
     "data": {
      "image/png": "[encoded data removed]",
      "text/plain": [
       "<Figure size 576x576 with 4 Axes>"
      ]
     },
     "metadata": {
      "needs_background": "light"
     },
     "output_type": "display_data"
    }
   ],
   "source": [
    "radii = [1, 2, 3, 5]\n",
    "fig, axs = plt.subplots(len(radii)//2 + len(radii) % 2, 2, figsize=(8, 8))\n",
    "\n",
    "for (idx, radius) in enumerate(radii):\n",
    "    image = equidistance_countour_image(\n",
    "        distance_metric=DistanceMetric.TCHEBYCHEV,\n",
    "        dimensions=(32, 32),\n",
    "        origin=(16, 16),\n",
    "        radius=radius\n",
    "    )\n",
    "\n",
    "    axs[idx//2,idx % 2].set_title(\"Tchebychev distance r=%d\" % (radius))\n",
    "    axs[idx//2,idx % 2].imshow(image, cmap=plt.cm.binary)"
   ]
  },
  {
   "cell_type": "markdown",
   "metadata": {},
   "source": [
    "Finally, we generated the images using the Taxicab metric. With this metric, the countour never divides the plane into 2 non-contiguous regions when we consider the background to be of 8-connectivity."
   ]
  },
  {
   "cell_type": "code",
   "execution_count": 6,
   "metadata": {},
   "outputs": [
    {
     "data": {
      "image/png": "[encoded data removed]",
      "text/plain": [
       "<Figure size 576x576 with 4 Axes>"
      ]
     },
     "metadata": {
      "needs_background": "light"
     },
     "output_type": "display_data"
    }
   ],
   "source": [
    "radii = [1, 2, 3, 5]\n",
    "fig, axs = plt.subplots(len(radii)//2 + len(radii) % 2, 2, figsize=(8, 8))\n",
    "\n",
    "for (idx, radius) in enumerate(radii):\n",
    "    image = equidistance_countour_image(\n",
    "        distance_metric=DistanceMetric.TAXICAB,\n",
    "        dimensions=(32, 32),\n",
    "        origin=(16, 16),\n",
    "        radius=radius\n",
    "    )\n",
    "\n",
    "    axs[idx//2][idx % 2].set_title(\"Taxicab distance r=%d\" % (radius))\n",
    "    axs[idx//2][idx % 2].imshow(image, cmap=plt.cm.binary)"
   ]
  },
  {
   "cell_type": "markdown",
   "metadata": {},
   "source": [
    "# Task 02\n",
    "\n",
    "For each of the three distance metrics, construct an image in which the value of pixel $(i, j)$ is proportional to the corresponding distance from an arbitrary pixel $(i_o,j_o)$ the coordinates of which are requested as input. For the image constructed using Euclidean distance, define a region R such that all pixels $(i, j) \\in R$ satisfy the distance condition $D[(i, j), (i_o, j_o)]<d_o$, where $d_o$ is some reasonable distance. Produce the run-length code for region $R$ (considered as a binary image)."
   ]
  },
  {
   "cell_type": "markdown",
   "metadata": {},
   "source": [
    "We create a function that set the pixel based on it distance from the given point, the distance is calculated using the function `distance2d` from the task 1. The \"further\" away a pixel is from the given point, the lower the pixel value. Then for each distance metric, we apply the function to generate the corresponding image."
   ]
  },
  {
   "cell_type": "code",
   "execution_count": 7,
   "metadata": {},
   "outputs": [],
   "source": [
    "def gradient_bounded_region_image(distance_metric, dimensions, origin):\n",
    "    image = np.zeros(dimensions).T\n",
    "    max_distance = distance2d(distance_metric, (0, 0), dimensions)\n",
    "    for y in range(image.shape[0]):\n",
    "        for x in range(image.shape[1]):\n",
    "            d = distance2d(distance_metric, origin, (x, y))\n",
    "            pval = round(255 * (1 - d / max_distance))\n",
    "            image[y,x] = pval\n",
    "\n",
    "    return image"
   ]
  },
  {
   "cell_type": "code",
   "execution_count": 8,
   "metadata": {},
   "outputs": [
    {
     "data": {
      "image/png": "[encoded data removed]",
      "text/plain": [
       "<Figure size 432x288 with 1 Axes>"
      ]
     },
     "metadata": {
      "needs_background": "light"
     },
     "output_type": "display_data"
    }
   ],
   "source": [
    "image = gradient_bounded_region_image(\n",
    "    distance_metric=DistanceMetric.EUCLIDEAN,\n",
    "    dimensions=(32, 32),\n",
    "    origin=(16, 16),\n",
    ")\n",
    "plt.imshow(image, cmap=plt.cm.gray)\n",
    "plt.title(\"Euclidean distance\")\n",
    "plt.show()"
   ]
  },
  {
   "cell_type": "code",
   "execution_count": 9,
   "metadata": {},
   "outputs": [
    {
     "data": {
      "image/png": "[encoded data removed]",
      "text/plain": [
       "<Figure size 432x288 with 1 Axes>"
      ]
     },
     "metadata": {
      "needs_background": "light"
     },
     "output_type": "display_data"
    }
   ],
   "source": [
    "image = gradient_bounded_region_image(\n",
    "    distance_metric=DistanceMetric.TCHEBYCHEV,\n",
    "    dimensions=(32, 32),\n",
    "    origin=(16, 16),\n",
    ")\n",
    "plt.imshow(image, cmap=plt.cm.gray)\n",
    "plt.title(\"Tchebychev distance\")\n",
    "plt.show()"
   ]
  },
  {
   "cell_type": "code",
   "execution_count": 10,
   "metadata": {},
   "outputs": [
    {
     "data": {
      "image/png": "[encoded data removed]",
      "text/plain": [
       "<Figure size 432x288 with 1 Axes>"
      ]
     },
     "metadata": {
      "needs_background": "light"
     },
     "output_type": "display_data"
    }
   ],
   "source": [
    "image = gradient_bounded_region_image(\n",
    "    distance_metric=DistanceMetric.TAXICAB,\n",
    "    dimensions=(32, 32),\n",
    "    origin=(16, 16),\n",
    ")\n",
    "plt.imshow(image, cmap=plt.cm.gray)\n",
    "plt.title(\"Taxicab distance\")\n",
    "plt.show()"
   ]
  },
  {
   "cell_type": "markdown",
   "metadata": {},
   "source": [
    "We then define a function that constructs a binary image where all the pixels within a distance from the given point is set to \"on\", and generate an image using the function with the Euclidean distance metric."
   ]
  },
  {
   "cell_type": "code",
   "execution_count": 11,
   "metadata": {},
   "outputs": [],
   "source": [
    "def solid_bounded_region_image(distance_metric, dimensions, origin, radius):\n",
    "    image = np.zeros(dimensions).T\n",
    "    for y in range(image.shape[0]):\n",
    "        for x in range(image.shape[1]):\n",
    "            d = distance2d(distance_metric, origin, (x, y))\n",
    "            if d < radius:\n",
    "                image[y,x] = 1\n",
    "\n",
    "    return image"
   ]
  },
  {
   "cell_type": "code",
   "execution_count": 12,
   "metadata": {},
   "outputs": [
    {
     "data": {
      "image/png": "[encoded data removed]",
      "text/plain": [
       "<Figure size 432x288 with 1 Axes>"
      ]
     },
     "metadata": {
      "needs_background": "light"
     },
     "output_type": "display_data"
    }
   ],
   "source": [
    "image = solid_bounded_region_image(\n",
    "    distance_metric=DistanceMetric.EUCLIDEAN,\n",
    "    dimensions=(32, 32),\n",
    "    origin=(16, 16),\n",
    "    radius=7,\n",
    ")\n",
    "plt.imshow(image, cmap=plt.cm.binary)\n",
    "plt.title(\"Euclidean distance\")\n",
    "plt.show()"
   ]
  },
  {
   "cell_type": "markdown",
   "metadata": {},
   "source": [
    "The run length codes can be computed from the image by going through every row in the image, and determine the contiguous region of pixels along the x-axis where the value of all the pixels is equal to the given value."
   ]
  },
  {
   "cell_type": "code",
   "execution_count": 13,
   "metadata": {},
   "outputs": [],
   "source": [
    "def run_length_code_from_image(image, pixel_value):\n",
    "    codes = []\n",
    "    for y in range(image.shape[0]):\n",
    "        prev_x_pos = -1\n",
    "        for x in range(image.shape[1]):\n",
    "            if image[y,x] == pixel_value and prev_x_pos == -1:\n",
    "                # First time encounter a pixel with the expected value\n",
    "                prev_x_pos = x\n",
    "            elif image[y,x] != pixel_value and prev_x_pos != -1:\n",
    "                # Encounter an different pixel value in the contiguous region\n",
    "                codes.append((y, prev_x_pos, x-1))\n",
    "                prev_x_pos = -1\n",
    "\n",
    "        if prev_x_pos != -1:\n",
    "            codes.append((y, prev_x_pos, image.shape[1]-1))\n",
    "\n",
    "    return codes"
   ]
  },
  {
   "cell_type": "code",
   "execution_count": 14,
   "metadata": {},
   "outputs": [
    {
     "data": {
      "text/plain": [
       "[(10, 13, 19),\n",
       " (11, 12, 20),\n",
       " (12, 11, 21),\n",
       " (13, 10, 22),\n",
       " (14, 10, 22),\n",
       " (15, 10, 22),\n",
       " (16, 10, 22),\n",
       " (17, 10, 22),\n",
       " (18, 10, 22),\n",
       " (19, 10, 22),\n",
       " (20, 11, 21),\n",
       " (21, 12, 20),\n",
       " (22, 13, 19)]"
      ]
     },
     "execution_count": 14,
     "metadata": {},
     "output_type": "execute_result"
    }
   ],
   "source": [
    "image = solid_bounded_region_image(\n",
    "    distance_metric=DistanceMetric.EUCLIDEAN,\n",
    "    dimensions=(32, 32),\n",
    "    origin=(16, 16),\n",
    "    radius=7,\n",
    ")\n",
    "run_length_code_from_image(image, 1)"
   ]
  },
  {
   "cell_type": "markdown",
   "metadata": {},
   "source": [
    "# Task 3\n",
    "\n",
    "Develop an algorithm that uses the run-length code from Problem 2 to create a binary image in which pixels in region R are \"on\" and other pixels are \"off.\" Subsample this 32 x 32-pixel image to create an 8 x 8-pixel binary image, and develop an algorithm that derives the quadtree representation of this binary image."
   ]
  },
  {
   "cell_type": "markdown",
   "metadata": {},
   "source": [
    "The image is reconstructured from the run length code by going through all the triplets in the code, then use the specified pixel-coordinates in the triplets to set the pixel of the binary image to \"on\"."
   ]
  },
  {
   "cell_type": "code",
   "execution_count": 15,
   "metadata": {},
   "outputs": [],
   "source": [
    "def image_from_run_length_code(run_length_code, dimensions):\n",
    "    image = np.zeros(dimensions)\n",
    "    for (y, x1, x2) in run_length_code:\n",
    "        for x in range(x1, x2 + 1):\n",
    "            image[y,x] = 1\n",
    "\n",
    "    return image"
   ]
  },
  {
   "cell_type": "code",
   "execution_count": 16,
   "metadata": {},
   "outputs": [
    {
     "data": {
      "image/png": "[encoded data removed]",
      "text/plain": [
       "<Figure size 432x288 with 1 Axes>"
      ]
     },
     "metadata": {
      "needs_background": "light"
     },
     "output_type": "display_data"
    }
   ],
   "source": [
    "image = solid_bounded_region_image(\n",
    "    distance_metric=DistanceMetric.EUCLIDEAN,\n",
    "    dimensions=(32, 32),\n",
    "    origin=(16, 16),\n",
    "    radius=7,\n",
    ")\n",
    "run_length_code = run_length_code_from_image(image, 1)\n",
    "\n",
    "image = image_from_run_length_code(run_length_code, dimensions=(32,32))\n",
    "plt.imshow(image, cmap=plt.cm.binary)\n",
    "plt.show()"
   ]
  },
  {
   "cell_type": "markdown",
   "metadata": {},
   "source": [
    "We define a function that subsample the image, by create a new image whose pixel value is the arithmetic mean of a 4-pixel grouping of the original image."
   ]
  },
  {
   "cell_type": "code",
   "execution_count": 17,
   "metadata": {},
   "outputs": [],
   "source": [
    "def subsample(image, level=1):\n",
    "    if level == 0:\n",
    "        return image\n",
    "\n",
    "    sampled_dimensions = (image.shape[0]//2, image.shape[1]//2)\n",
    "    sampled_image = np.zeros(sampled_dimensions)\n",
    "    for y in range(0, image.shape[0], 2):\n",
    "        for x in range(0, image.shape[1], 2):\n",
    "            pval = (\n",
    "                image[y,x]\n",
    "                + image[y+1,x]\n",
    "                + image[y,x+1]\n",
    "                + image[y+1,x+1]\n",
    "            ) // 4\n",
    "            sampled_image[y//2,x//2] = pval\n",
    "\n",
    "    return subsample(sampled_image, level - 1)"
   ]
  },
  {
   "cell_type": "markdown",
   "metadata": {},
   "source": [
    "Then we subsample the image of the region twice, producing a 8x8 image from a 32x32 image."
   ]
  },
  {
   "cell_type": "code",
   "execution_count": 18,
   "metadata": {},
   "outputs": [
    {
     "data": {
      "image/png": "[encoded data removed]",
      "text/plain": [
       "<Figure size 432x288 with 1 Axes>"
      ]
     },
     "metadata": {
      "needs_background": "light"
     },
     "output_type": "display_data"
    }
   ],
   "source": [
    "image = subsample(\n",
    "    image=solid_bounded_region_image(\n",
    "        distance_metric=DistanceMetric.EUCLIDEAN,\n",
    "        dimensions=(32, 32),\n",
    "        origin=(16, 16),\n",
    "        radius=7,\n",
    "    ),\n",
    "    level=2,\n",
    ")\n",
    "plt.imshow(image, cmap=plt.cm.binary) \n",
    "plt.show()"
   ]
  },
  {
   "cell_type": "markdown",
   "metadata": {},
   "source": [
    "We define a quad-tree for binary images. For the defined tree, the quadrants are sub-divided when all the pixels in that quadrant are not of the same value, in this case that value is 0 or 1."
   ]
  },
  {
   "cell_type": "code",
   "execution_count": 19,
   "metadata": {},
   "outputs": [],
   "source": [
    "class BinaryQuadTreeNode():\n",
    "    def __init__(self, x, y, width, height):\n",
    "        self.x = x\n",
    "        self.y = y\n",
    "        self.width = width\n",
    "        self.height = height\n",
    "        self.children = []\n",
    "\n",
    "    def recursive_subdivide(self, image):\n",
    "        if (self.is_uniform(image)):\n",
    "            if image[self.y,self.x] == 1:\n",
    "                return \"b\"\n",
    "            else:\n",
    "                return \"w\"\n",
    "\n",
    "        node_repr = \"g(\"\n",
    "        quadrant_width = self.width // 2\n",
    "        quadrant_height = self.height // 2\n",
    "\n",
    "        x_bottom_right = self.x + quadrant_width\n",
    "        y_bottom_right = self.y + quadrant_height\n",
    "        quadrant_bottom_right = BinaryQuadTreeNode(\n",
    "            x_bottom_right,\n",
    "            y_bottom_right,\n",
    "            quadrant_width,\n",
    "            quadrant_height\n",
    "        )\n",
    "        node_repr += quadrant_bottom_right.recursive_subdivide(image)\n",
    "\n",
    "        x_bottom_left = self.x\n",
    "        y_bottom_left = self.y + quadrant_height\n",
    "        quadrant_bottom_left = BinaryQuadTreeNode(\n",
    "            x_bottom_left,\n",
    "            y_bottom_left,\n",
    "            quadrant_width,\n",
    "            quadrant_height\n",
    "        )\n",
    "        node_repr += quadrant_bottom_left.recursive_subdivide(image)\n",
    "\n",
    "        x_top_right = self.x + quadrant_width\n",
    "        y_top_right = self.y\n",
    "        quadrant_top_right = BinaryQuadTreeNode(\n",
    "            x_top_right,\n",
    "            y_top_right,\n",
    "            quadrant_width,\n",
    "            quadrant_height\n",
    "        )\n",
    "        node_repr += quadrant_top_right.recursive_subdivide(image)\n",
    "\n",
    "        x_top_left = self.x\n",
    "        y_top_left = self.y\n",
    "        quadrant_top_left = BinaryQuadTreeNode(\n",
    "            x_top_left,\n",
    "            y_top_left,\n",
    "            quadrant_width,\n",
    "            quadrant_height\n",
    "        )\n",
    "        node_repr += quadrant_top_left.recursive_subdivide(image)\n",
    "\n",
    "        node_repr += \")\"\n",
    "        self.children = [\n",
    "            quadrant_top_left,\n",
    "            quadrant_top_right,\n",
    "            quadrant_bottom_left,\n",
    "            quadrant_bottom_right,\n",
    "        ]\n",
    "        return node_repr\n",
    "\n",
    "    def is_uniform(self, image):\n",
    "        pixel_value_set = set()\n",
    "        for yy in range(self.y, self.y + self.height):\n",
    "            for xx in range(self.x, self.x + self.width):\n",
    "                pixel_value_set.add(image[yy,xx])\n",
    "                if len(pixel_value_set) > 1:\n",
    "                    return False\n",
    "\n",
    "        return True\n",
    "\n",
    "\n",
    "class BinaryQuadTree():\n",
    "    def __init__(self, image):\n",
    "        self.root = BinaryQuadTreeNode(\n",
    "            0, 0,\n",
    "            image.shape[1],\n",
    "            image.shape[0]\n",
    "        )\n",
    "        self.repr = self.root.recursive_subdivide(image)\n",
    "\n",
    "    def __repr__(self):\n",
    "        return self.repr"
   ]
  },
  {
   "cell_type": "markdown",
   "metadata": {},
   "source": [
    "Constructing the tree and show it encoded representation using the subsampled image in the section above"
   ]
  },
  {
   "cell_type": "code",
   "execution_count": 20,
   "metadata": {},
   "outputs": [
    {
     "name": "stdout",
     "output_type": "stream",
     "text": [
      "g(g(wwwg(wwwb))g(wwg(wwbw)w)g(wg(wbww)ww)g(g(bwww)www))\n"
     ]
    },
    {
     "data": {
      "text/plain": [
       "<matplotlib.image.AxesImage at 0x7f9bfaf9d0a0>"
      ]
     },
     "execution_count": 20,
     "metadata": {},
     "output_type": "execute_result"
    },
    {
     "data": {
      "image/png": "[encoded data removed]",
      "text/plain": [
       "<Figure size 432x288 with 1 Axes>"
      ]
     },
     "metadata": {
      "needs_background": "light"
     },
     "output_type": "display_data"
    }
   ],
   "source": [
    "sampled_image = subsample(\n",
    "    image=solid_bounded_region_image(\n",
    "        distance_metric=DistanceMetric.EUCLIDEAN,\n",
    "        dimensions=(32, 32),\n",
    "        origin=(16, 16),\n",
    "        radius=7,\n",
    "    ),\n",
    "    level=2,\n",
    ")\n",
    "\n",
    "print(BinaryQuadTree(sampled_image))\n",
    "plt.imshow(sampled_image, cmap=plt.cm.binary)"
   ]
  },
  {
   "cell_type": "markdown",
   "metadata": {},
   "source": [
    "# Task 4\n",
    "\n",
    "Write a program that outputs the base-2 representation of any non-negative base- 10 integer provided as input."
   ]
  },
  {
   "cell_type": "code",
   "execution_count": 21,
   "metadata": {},
   "outputs": [],
   "source": [
    "def decimal_to_binary(n):\n",
    "    binary = ''\n",
    "    while (n != 0):\n",
    "        binary = str(n % 2) + binary\n",
    "        n = n // 2\n",
    "    return binary"
   ]
  },
  {
   "cell_type": "code",
   "execution_count": 22,
   "metadata": {},
   "outputs": [
    {
     "name": "stdout",
     "output_type": "stream",
     "text": [
      "1010\n"
     ]
    }
   ],
   "source": [
    "# decimal_to_binary(10)\n",
    "print(f\"{10:b}\")"
   ]
  }
 ],
 "metadata": {
  "kernelspec": {
   "display_name": "Python 3",
   "language": "python",
   "name": "python3"
  },
  "language_info": {
   "codemirror_mode": {
    "name": "ipython",
    "version": 3
   },
   "file_extension": ".py",
   "mimetype": "text/x-python",
   "name": "python",
   "nbconvert_exporter": "python",
   "pygments_lexer": "ipython3",
   "version": "3.8.6"
  }
 },
 "nbformat": 4,
 "nbformat_minor": 4
}
